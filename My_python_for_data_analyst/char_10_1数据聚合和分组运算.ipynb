{
 "cells": [
  {
   "cell_type": "code",
   "execution_count": 1,
   "metadata": {},
   "outputs": [],
   "source": [
    "# group by 技术\n",
    "import numpy as np\n",
    "import pandas as pd\n",
    "from pandas import DataFrame\n",
    "from pandas import Series\n",
    "import matplotlib.pyplot as plt\n",
    "from numpy.random import randn\n",
    "import os\n",
    "from datetime import datetime"
   ]
  },
  {
   "cell_type": "code",
   "execution_count": 2,
   "metadata": {},
   "outputs": [
    {
     "data": {
      "text/html": "<div>\n<style scoped>\n    .dataframe tbody tr th:only-of-type {\n        vertical-align: middle;\n    }\n\n    .dataframe tbody tr th {\n        vertical-align: top;\n    }\n\n    .dataframe thead th {\n        text-align: right;\n    }\n</style>\n<table border=\"1\" class=\"dataframe\">\n  <thead>\n    <tr style=\"text-align: right;\">\n      <th></th>\n      <th>key1</th>\n      <th>key2</th>\n      <th>data1</th>\n      <th>data2</th>\n    </tr>\n  </thead>\n  <tbody>\n    <tr>\n      <th>0</th>\n      <td>a</td>\n      <td>one</td>\n      <td>-0.153258</td>\n      <td>-1.704409</td>\n    </tr>\n    <tr>\n      <th>1</th>\n      <td>a</td>\n      <td>two</td>\n      <td>0.231531</td>\n      <td>-1.039485</td>\n    </tr>\n    <tr>\n      <th>2</th>\n      <td>b</td>\n      <td>one</td>\n      <td>2.039811</td>\n      <td>-1.767591</td>\n    </tr>\n    <tr>\n      <th>3</th>\n      <td>b</td>\n      <td>two</td>\n      <td>1.154342</td>\n      <td>0.985161</td>\n    </tr>\n    <tr>\n      <th>4</th>\n      <td>a</td>\n      <td>one</td>\n      <td>-0.106685</td>\n      <td>0.149286</td>\n    </tr>\n  </tbody>\n</table>\n</div>",
      "text/plain": "  key1 key2     data1     data2\n0    a  one -0.153258 -1.704409\n1    a  two  0.231531 -1.039485\n2    b  one  2.039811 -1.767591\n3    b  two  1.154342  0.985161\n4    a  one -0.106685  0.149286"
     },
     "execution_count": 2,
     "metadata": {},
     "output_type": "execute_result"
    }
   ],
   "source": [
    "df = DataFrame({'key1':['a','a','b','b','a'],\n",
    "                'key2':['one','two','one','two','one'],\n",
    "                'data1':np.random.randn(5),\n",
    "                'data2':np.random.randn(5)})\n",
    "df"
   ]
  },
  {
   "cell_type": "code",
   "execution_count": 3,
   "metadata": {},
   "outputs": [
    {
     "data": {
      "text/plain": "<pandas.core.groupby.generic.SeriesGroupBy object at 0x0000022AB9929208>"
     },
     "execution_count": 3,
     "metadata": {},
     "output_type": "execute_result"
    }
   ],
   "source": [
    "grouped = df['data1'].groupby(df['key1'])   # 访问data1根据key1调用group by\n",
    "grouped                 # 实际上这部分没有进行聚合操作，只是进行了分组"
   ]
  },
  {
   "cell_type": "code",
   "execution_count": 4,
   "metadata": {},
   "outputs": [
    {
     "data": {
      "text/plain": "key1\na   -0.009471\nb    1.597077\nName: data1, dtype: float64"
     },
     "execution_count": 4,
     "metadata": {},
     "output_type": "execute_result"
    }
   ],
   "source": [
    "grouped.mean()          # 这里是数据series根据分组键进行的聚合操作，产生的是一个新的series"
   ]
  },
  {
   "cell_type": "code",
   "execution_count": 5,
   "metadata": {},
   "outputs": [
    {
     "data": {
      "text/plain": "key1  key2\na     one    -0.129971\n      two     0.231531\nb     one     2.039811\n      two     1.154342\nName: data1, dtype: float64"
     },
     "execution_count": 5,
     "metadata": {},
     "output_type": "execute_result"
    }
   ],
   "source": [
    "# 如果groupby 的时候一次传入多个数组，那么情况就会不一样了\n",
    "means = df['data1'].groupby([df['key1'],df['key2']]).mean()   # 按照两个key索引会得到一个层次化索引的数据（由唯一的键对组成）\n",
    "means"
   ]
  },
  {
   "cell_type": "code",
   "execution_count": 6,
   "metadata": {},
   "outputs": [
    {
     "data": {
      "text/html": "<div>\n<style scoped>\n    .dataframe tbody tr th:only-of-type {\n        vertical-align: middle;\n    }\n\n    .dataframe tbody tr th {\n        vertical-align: top;\n    }\n\n    .dataframe thead th {\n        text-align: right;\n    }\n</style>\n<table border=\"1\" class=\"dataframe\">\n  <thead>\n    <tr style=\"text-align: right;\">\n      <th>key2</th>\n      <th>one</th>\n      <th>two</th>\n    </tr>\n    <tr>\n      <th>key1</th>\n      <th></th>\n      <th></th>\n    </tr>\n  </thead>\n  <tbody>\n    <tr>\n      <th>a</th>\n      <td>-0.129971</td>\n      <td>0.231531</td>\n    </tr>\n    <tr>\n      <th>b</th>\n      <td>2.039811</td>\n      <td>1.154342</td>\n    </tr>\n  </tbody>\n</table>\n</div>",
      "text/plain": "key2       one       two\nkey1                    \na    -0.129971  0.231531\nb     2.039811  1.154342"
     },
     "execution_count": 6,
     "metadata": {},
     "output_type": "execute_result"
    }
   ],
   "source": [
    "means.unstack()"
   ]
  },
  {
   "cell_type": "code",
   "execution_count": 7,
   "metadata": {},
   "outputs": [
    {
     "data": {
      "text/plain": "California  2005    0.231531\n            2006    2.039811\nOhio        2005    0.500542\n            2006   -0.106685\nName: data1, dtype: float64"
     },
     "execution_count": 7,
     "metadata": {},
     "output_type": "execute_result"
    }
   ],
   "source": [
    "# 实际上，分组键可以是任何长度适当的数组\n",
    "states = np.array(['Ohio', 'California', 'California', 'Ohio', 'Ohio'])\n",
    "years = np.array([2005, 2005, 2006, 2005, 2006])\n",
    "df['data1'].groupby([states, years]).mean()"
   ]
  },
  {
   "cell_type": "code",
   "execution_count": 9,
   "metadata": {},
   "outputs": [
    {
     "data": {
      "text/html": "<div>\n<style scoped>\n    .dataframe tbody tr th:only-of-type {\n        vertical-align: middle;\n    }\n\n    .dataframe tbody tr th {\n        vertical-align: top;\n    }\n\n    .dataframe thead th {\n        text-align: right;\n    }\n</style>\n<table border=\"1\" class=\"dataframe\">\n  <thead>\n    <tr style=\"text-align: right;\">\n      <th></th>\n      <th>data1</th>\n      <th>data2</th>\n    </tr>\n    <tr>\n      <th>key1</th>\n      <th></th>\n      <th></th>\n    </tr>\n  </thead>\n  <tbody>\n    <tr>\n      <th>a</th>\n      <td>-0.009471</td>\n      <td>-0.864870</td>\n    </tr>\n    <tr>\n      <th>b</th>\n      <td>1.597077</td>\n      <td>-0.391215</td>\n    </tr>\n  </tbody>\n</table>\n</div>",
      "text/plain": "         data1     data2\nkey1                    \na    -0.009471 -0.864870\nb     1.597077 -0.391215"
     },
     "execution_count": 9,
     "metadata": {},
     "output_type": "execute_result"
    }
   ],
   "source": [
    "# 此外分组键还可以是列名\n",
    "df.groupby('key1').mean()   # 这个代码执行的时候，会自动忽略字符串格式的列，也叫做# 麻烦列"
   ]
  },
  {
   "cell_type": "code",
   "execution_count": 8,
   "metadata": {},
   "outputs": [
    {
     "data": {
      "text/html": "<div>\n<style scoped>\n    .dataframe tbody tr th:only-of-type {\n        vertical-align: middle;\n    }\n\n    .dataframe tbody tr th {\n        vertical-align: top;\n    }\n\n    .dataframe thead th {\n        text-align: right;\n    }\n</style>\n<table border=\"1\" class=\"dataframe\">\n  <thead>\n    <tr style=\"text-align: right;\">\n      <th></th>\n      <th></th>\n      <th>data1</th>\n      <th>data2</th>\n    </tr>\n    <tr>\n      <th>key1</th>\n      <th>key2</th>\n      <th></th>\n      <th></th>\n    </tr>\n  </thead>\n  <tbody>\n    <tr>\n      <th rowspan=\"2\" valign=\"top\">a</th>\n      <th>one</th>\n      <td>-0.129971</td>\n      <td>-0.777562</td>\n    </tr>\n    <tr>\n      <th>two</th>\n      <td>0.231531</td>\n      <td>-1.039485</td>\n    </tr>\n    <tr>\n      <th rowspan=\"2\" valign=\"top\">b</th>\n      <th>one</th>\n      <td>2.039811</td>\n      <td>-1.767591</td>\n    </tr>\n    <tr>\n      <th>two</th>\n      <td>1.154342</td>\n      <td>0.985161</td>\n    </tr>\n  </tbody>\n</table>\n</div>",
      "text/plain": "              data1     data2\nkey1 key2                    \na    one  -0.129971 -0.777562\n     two   0.231531 -1.039485\nb    one   2.039811 -1.767591\n     two   1.154342  0.985161"
     },
     "execution_count": 8,
     "metadata": {},
     "output_type": "execute_result"
    }
   ],
   "source": [
    "df.groupby(['key1','key2']).mean()"
   ]
  },
  {
   "cell_type": "code",
   "execution_count": 10,
   "metadata": {},
   "outputs": [
    {
     "data": {
      "text/plain": "key1  key2\na     one     2\n      two     1\nb     one     1\n      two     1\ndtype: int64"
     },
     "execution_count": 10,
     "metadata": {},
     "output_type": "execute_result"
    }
   ],
   "source": [
    "# groupby的size方法，他可以返回一个含有分组大小的size\n",
    "df.groupby(['key1','key2']).size()"
   ]
  },
  {
   "cell_type": "code",
   "execution_count": 11,
   "metadata": {},
   "outputs": [
    {
     "name": "stdout",
     "output_type": "stream",
     "text": "a\n  key1 key2     data1     data2\n0    a  one -0.153258 -1.704409\n1    a  two  0.231531 -1.039485\n4    a  one -0.106685  0.149286\nb\n  key1 key2     data1     data2\n2    b  one  2.039811 -1.767591\n3    b  two  1.154342  0.985161\n"
    }
   ],
   "source": [
    "# groupby 对象支持迭代，可以产生一组二元元组（由分组名和数据块组成）\n",
    "for name,group in df.groupby('key1'):\n",
    "    print(name)\n",
    "    print(group)"
   ]
  },
  {
   "cell_type": "code",
   "execution_count": 12,
   "metadata": {},
   "outputs": [
    {
     "name": "stdout",
     "output_type": "stream",
     "text": "a one\n  key1 key2     data1     data2\n0    a  one -0.153258 -1.704409\n4    a  one -0.106685  0.149286\na two\n  key1 key2     data1     data2\n1    a  two  0.231531 -1.039485\nb one\n  key1 key2     data1     data2\n2    b  one  2.039811 -1.767591\nb two\n  key1 key2     data1     data2\n3    b  two  1.154342  0.985161\n"
    }
   ],
   "source": [
    "# 如果是有多重键的话，元组的第一个元素将会是由键值组成的元组：\n",
    "for (k1, k2),group in df.groupby(['key1','key2']):\n",
    "    print(k1,k2)\n",
    "    print(group)"
   ]
  },
  {
   "cell_type": "code",
   "execution_count": 13,
   "metadata": {},
   "outputs": [
    {
     "data": {
      "text/plain": "{'a':   key1 key2     data1     data2\n 0    a  one -0.153258 -1.704409\n 1    a  two  0.231531 -1.039485\n 4    a  one -0.106685  0.149286, 'b':   key1 key2     data1     data2\n 2    b  one  2.039811 -1.767591\n 3    b  two  1.154342  0.985161}"
     },
     "execution_count": 13,
     "metadata": {},
     "output_type": "execute_result"
    }
   ],
   "source": [
    "# 还可以把迭代的数据片段做成一个字典：\n",
    "pieces = dict(list(df.groupby('key1')))\n",
    "pieces"
   ]
  },
  {
   "cell_type": "code",
   "execution_count": 15,
   "metadata": {},
   "outputs": [],
   "source": [
    "# group by 默认是按照axis=0 上进行分组的，通过设置也可以在其他任何轴上进行分组"
   ]
  },
  {
   "cell_type": "code",
   "execution_count": 14,
   "metadata": {},
   "outputs": [
    {
     "data": {
      "text/plain": "key1      object\nkey2      object\ndata1    float64\ndata2    float64\ndtype: object"
     },
     "execution_count": 14,
     "metadata": {},
     "output_type": "execute_result"
    }
   ],
   "source": [
    "df.dtypes"
   ]
  },
  {
   "cell_type": "code",
   "execution_count": 16,
   "metadata": {},
   "outputs": [
    {
     "data": {
      "text/plain": "{dtype('float64'):       data1     data2\n 0 -0.153258 -1.704409\n 1  0.231531 -1.039485\n 2  2.039811 -1.767591\n 3  1.154342  0.985161\n 4 -0.106685  0.149286, dtype('O'):   key1 key2\n 0    a  one\n 1    a  two\n 2    b  one\n 3    b  two\n 4    a  one}"
     },
     "execution_count": 16,
     "metadata": {},
     "output_type": "execute_result"
    }
   ],
   "source": [
    "grouped = df.groupby(df.dtypes,axis=1)\n",
    "dict(list(grouped))"
   ]
  },
  {
   "cell_type": "code",
   "execution_count": 17,
   "metadata": {},
   "outputs": [
    {
     "data": {
      "text/plain": "<pandas.core.groupby.generic.DataFrameGroupBy object at 0x0000022AB99CBCC0>"
     },
     "execution_count": 17,
     "metadata": {},
     "output_type": "execute_result"
    }
   ],
   "source": [
    "# 选取一个或一组列进行分组聚合\n",
    "df.groupby('key1')['data1']\n",
    "df.groupby('key1')[['data2']]"
   ]
  },
  {
   "cell_type": "code",
   "execution_count": 18,
   "metadata": {},
   "outputs": [
    {
     "data": {
      "text/plain": "<pandas.core.groupby.generic.DataFrameGroupBy object at 0x0000022AB99DC390>"
     },
     "execution_count": 18,
     "metadata": {},
     "output_type": "execute_result"
    }
   ],
   "source": [
    "# 以上代码是以下代码的语法糖\n",
    "df['data1'].groupby(df['key1'])\n",
    "df[['data2']].groupby(df['key1'])"
   ]
  },
  {
   "cell_type": "code",
   "execution_count": 19,
   "metadata": {},
   "outputs": [
    {
     "name": "stdout",
     "output_type": "stream",
     "text": "data2\nkey1 key2          \na    one  -0.777562\n     two  -1.039485\nb    one  -1.767591\n     two   0.985161\n<class 'pandas.core.frame.DataFrame'>\n"
    }
   ],
   "source": [
    "# 对于大数据集，如果我们只需要对部分列进行聚合运算，如果只计算data2列的平均值并以Dataframe形式得#　到结果\n",
    "a = df.groupby(['key1','key2'])[['data2']].mean() # 该种索引返回的是一个已分组的Dataframe\n",
    "print(a)\n",
    "print(type(a))"
   ]
  },
  {
   "cell_type": "code",
   "execution_count": 20,
   "metadata": {},
   "outputs": [
    {
     "name": "stdout",
     "output_type": "stream",
     "text": "key1  key2\na     one    -0.777562\n      two    -1.039485\nb     one    -1.767591\n      two     0.985161\nName: data2, dtype: float64\n<class 'pandas.core.series.Series'>\n"
    }
   ],
   "source": [
    "b = df.groupby(['key1','key2'])['data2'].mean()   # 如果传入的是标量形式的单个列名,返回的是# 已分组的series\n",
    "print(b)   \n",
    "print(type(b))     "
   ]
  },
  {
   "cell_type": "code",
   "execution_count": 21,
   "metadata": {},
   "outputs": [
    {
     "data": {
      "text/plain": "<pandas.core.groupby.generic.SeriesGroupBy object at 0x0000022AA8F6BC50>"
     },
     "execution_count": 21,
     "metadata": {},
     "output_type": "execute_result"
    }
   ],
   "source": [
    "s_grouped = df.groupby(['key1','key2'])['data2'] \n",
    "s_grouped"
   ]
  },
  {
   "cell_type": "code",
   "execution_count": 22,
   "metadata": {},
   "outputs": [
    {
     "data": {
      "text/plain": "key1  key2\na     one    -0.777562\n      two    -1.039485\nb     one    -1.767591\n      two     0.985161\nName: data2, dtype: float64"
     },
     "execution_count": 22,
     "metadata": {},
     "output_type": "execute_result"
    }
   ],
   "source": [
    "s_grouped.mean()"
   ]
  },
  {
   "cell_type": "code",
   "execution_count": 23,
   "metadata": {},
   "outputs": [],
   "source": [
    "# 接下来有三个分组的方法：\n",
    "# 1.是通过字典或series进行分组\n",
    "# 2.是通过函数进行分组\n",
    "# 3.是通过索引级别分组"
   ]
  },
  {
   "cell_type": "code",
   "execution_count": 24,
   "metadata": {},
   "outputs": [
    {
     "data": {
      "text/html": "<div>\n<style scoped>\n    .dataframe tbody tr th:only-of-type {\n        vertical-align: middle;\n    }\n\n    .dataframe tbody tr th {\n        vertical-align: top;\n    }\n\n    .dataframe thead th {\n        text-align: right;\n    }\n</style>\n<table border=\"1\" class=\"dataframe\">\n  <thead>\n    <tr style=\"text-align: right;\">\n      <th></th>\n      <th>a</th>\n      <th>b</th>\n      <th>c</th>\n      <th>d</th>\n      <th>e</th>\n    </tr>\n  </thead>\n  <tbody>\n    <tr>\n      <th>Joe</th>\n      <td>0.988715</td>\n      <td>0.088757</td>\n      <td>0.357103</td>\n      <td>0.465662</td>\n      <td>-1.560522</td>\n    </tr>\n    <tr>\n      <th>Steve</th>\n      <td>1.470586</td>\n      <td>-0.662865</td>\n      <td>0.268969</td>\n      <td>-0.511980</td>\n      <td>0.803723</td>\n    </tr>\n    <tr>\n      <th>Wes</th>\n      <td>1.146165</td>\n      <td>NaN</td>\n      <td>NaN</td>\n      <td>-0.126868</td>\n      <td>-2.130307</td>\n    </tr>\n    <tr>\n      <th>Jim</th>\n      <td>-0.571089</td>\n      <td>-0.527224</td>\n      <td>0.255759</td>\n      <td>0.058619</td>\n      <td>0.661666</td>\n    </tr>\n    <tr>\n      <th>Travis</th>\n      <td>-2.355058</td>\n      <td>-0.262931</td>\n      <td>1.782651</td>\n      <td>0.691793</td>\n      <td>0.899694</td>\n    </tr>\n  </tbody>\n</table>\n</div>",
      "text/plain": "               a         b         c         d         e\nJoe     0.988715  0.088757  0.357103  0.465662 -1.560522\nSteve   1.470586 -0.662865  0.268969 -0.511980  0.803723\nWes     1.146165       NaN       NaN -0.126868 -2.130307\nJim    -0.571089 -0.527224  0.255759  0.058619  0.661666\nTravis -2.355058 -0.262931  1.782651  0.691793  0.899694"
     },
     "execution_count": 24,
     "metadata": {},
     "output_type": "execute_result"
    }
   ],
   "source": [
    "#　通过字典Series进行分组\n",
    "people = DataFrame(np.random.randn(5,5),columns=['a','b','c','d','e']\n",
    "                                        ,index=['Joe','Steve','Wes','Jim','Travis'])\n",
    "people.ix[2:3,['b','c']] = np.nan    # 添加几个na值\n",
    "people"
   ]
  },
  {
   "cell_type": "code",
   "execution_count": 32,
   "metadata": {},
   "outputs": [
    {
     "data": {
      "text/html": "<div>\n<style scoped>\n    .dataframe tbody tr th:only-of-type {\n        vertical-align: middle;\n    }\n\n    .dataframe tbody tr th {\n        vertical-align: top;\n    }\n\n    .dataframe thead th {\n        text-align: right;\n    }\n</style>\n<table border=\"1\" class=\"dataframe\">\n  <thead>\n    <tr style=\"text-align: right;\">\n      <th></th>\n      <th>blue</th>\n      <th>red</th>\n    </tr>\n  </thead>\n  <tbody>\n    <tr>\n      <th>Joe</th>\n      <td>0.822765</td>\n      <td>-0.483050</td>\n    </tr>\n    <tr>\n      <th>Steve</th>\n      <td>-0.243011</td>\n      <td>1.611444</td>\n    </tr>\n    <tr>\n      <th>Wes</th>\n      <td>-0.126868</td>\n      <td>-0.984142</td>\n    </tr>\n    <tr>\n      <th>Jim</th>\n      <td>0.314378</td>\n      <td>-0.436647</td>\n    </tr>\n    <tr>\n      <th>Travis</th>\n      <td>2.474444</td>\n      <td>-1.718295</td>\n    </tr>\n  </tbody>\n</table>\n</div>",
      "text/plain": "            blue       red\nJoe     0.822765 -0.483050\nSteve  -0.243011  1.611444\nWes    -0.126868 -0.984142\nJim     0.314378 -0.436647\nTravis  2.474444 -1.718295"
     },
     "execution_count": 32,
     "metadata": {},
     "output_type": "execute_result"
    }
   ],
   "source": [
    "mapping = {'a':'red','b':'red','c':'blue','d':'blue','e':'red','f':'orange'} # 按照字典# group\n",
    "by_column = people.groupby(mapping,axis=1)\n",
    "by_column.sum()"
   ]
  },
  {
   "cell_type": "code",
   "execution_count": 25,
   "metadata": {},
   "outputs": [
    {
     "ename": "NameError",
     "evalue": "name 'mapping' is not defined",
     "output_type": "error",
     "traceback": [
      "\u001b[1;31m---------------------------------------------------------------------------\u001b[0m",
      "\u001b[1;31mNameError\u001b[0m                                 Traceback (most recent call last)",
      "\u001b[1;32m<ipython-input-25-3a89ce073c47>\u001b[0m in \u001b[0;36m<module>\u001b[1;34m\u001b[0m\n\u001b[1;32m----> 1\u001b[1;33m \u001b[0mmap_series\u001b[0m \u001b[1;33m=\u001b[0m \u001b[0mpd\u001b[0m\u001b[1;33m.\u001b[0m\u001b[0mSeries\u001b[0m\u001b[1;33m(\u001b[0m\u001b[0mmapping\u001b[0m\u001b[1;33m)\u001b[0m\u001b[1;33m\u001b[0m\u001b[1;33m\u001b[0m\u001b[0m\n\u001b[0m\u001b[0;32m      2\u001b[0m \u001b[0mmap_series\u001b[0m\u001b[1;33m\u001b[0m\u001b[1;33m\u001b[0m\u001b[0m\n\u001b[0;32m      3\u001b[0m \u001b[0mpeople\u001b[0m\u001b[1;33m.\u001b[0m\u001b[0mgroupby\u001b[0m\u001b[1;33m(\u001b[0m\u001b[0mmap_series\u001b[0m\u001b[1;33m,\u001b[0m\u001b[0maxis\u001b[0m\u001b[1;33m=\u001b[0m\u001b[1;36m1\u001b[0m\u001b[1;33m)\u001b[0m\u001b[1;33m.\u001b[0m\u001b[0mcount\u001b[0m\u001b[1;33m(\u001b[0m\u001b[1;33m)\u001b[0m\u001b[1;33m\u001b[0m\u001b[1;33m\u001b[0m\u001b[0m\n",
      "\u001b[1;31mNameError\u001b[0m: name 'mapping' is not defined"
     ]
    }
   ],
   "source": [
    "map_series = pd.Series(mapping)\n",
    "map_series\n",
    "people.groupby(map_series,axis=1).count()"
   ]
  },
  {
   "cell_type": "code",
   "execution_count": null,
   "metadata": {},
   "outputs": [],
   "source": [
    "# 2.是通过函数进行分组\n",
    "# 按照索引列的名字长度进行分组：\n",
    "people.groupby(len).sum()"
   ]
  },
  {
   "cell_type": "code",
   "execution_count": null,
   "metadata": {},
   "outputs": [],
   "source": [
    "key_list = ['one','one','one','two','two']\n",
    "people.groupby([len,key_list]).sum()"
   ]
  },
  {
   "cell_type": "code",
   "execution_count": null,
   "metadata": {},
   "outputs": [],
   "source": [
    "people.groupby(key_list).sum()"
   ]
  },
  {
   "cell_type": "code",
   "execution_count": null,
   "metadata": {},
   "outputs": [],
   "source": [
    "# 根据索引级别分组，层次化索引数据集最方便的方法就是能够根据索引级别进行聚合，通过level关键字传入级别编号和名称\n",
    "columns = pd.MultiIndex.from_arrays([['US','US','US','JP','JP'],[1,3,5,1,3]],names=['city','tenor'])\n",
    "hier_df = pd.DataFrame(np.random.randn(4,5),columns=columns )\n",
    "hier_df"
   ]
  },
  {
   "cell_type": "code",
   "execution_count": null,
   "metadata": {},
   "outputs": [],
   "source": [
    "hier_df.groupby(level='city',axis=1).count()"
   ]
  },
  {
   "cell_type": "code",
   "execution_count": null,
   "metadata": {},
   "outputs": [],
   "source": []
  },
  {
   "cell_type": "code",
   "execution_count": null,
   "metadata": {},
   "outputs": [],
   "source": []
  },
  {
   "cell_type": "code",
   "execution_count": null,
   "metadata": {},
   "outputs": [],
   "source": []
  },
  {
   "cell_type": "code",
   "execution_count": null,
   "metadata": {},
   "outputs": [],
   "source": []
  }
 ],
 "metadata": {
  "language_info": {
   "name": "python",
   "codemirror_mode": {
    "name": "ipython",
    "version": 3
   },
   "version": "3.7.3-final"
  },
  "orig_nbformat": 2,
  "file_extension": ".py",
  "mimetype": "text/x-python",
  "name": "python",
  "npconvert_exporter": "python",
  "pygments_lexer": "ipython3",
  "version": 3,
  "kernelspec": {
   "name": "python37364bit45e779f0669b46378cfe1f5e1afa1b65",
   "display_name": "Python 3.7.3 64-bit"
  }
 },
 "nbformat": 4,
 "nbformat_minor": 2
}