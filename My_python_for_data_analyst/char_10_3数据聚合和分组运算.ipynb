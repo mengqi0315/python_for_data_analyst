{
 "nbformat": 4,
 "nbformat_minor": 2,
 "metadata": {
  "language_info": {
   "name": "python",
   "codemirror_mode": {
    "name": "ipython",
    "version": 3
   },
   "version": "3.7.3-final"
  },
  "orig_nbformat": 2,
  "file_extension": ".py",
  "mimetype": "text/x-python",
  "name": "python",
  "npconvert_exporter": "python",
  "pygments_lexer": "ipython3",
  "version": 3,
  "kernelspec": {
   "name": "python37364bit9306952e03f5412b93e95c9f17f64485",
   "display_name": "Python 3.7.3 64-bit"
  }
 },
 "cells": [
  {
   "cell_type": "code",
   "execution_count": 3,
   "metadata": {},
   "outputs": [],
   "source": [
    "# 分组级运算和转换\n",
    "import numpy as np\n",
    "import pandas as pd\n",
    "from pandas import DataFrame\n",
    "from pandas import Series\n",
    "import matplotlib.pyplot as plt\n",
    "from numpy.random import randn\n",
    "import os\n",
    "from datetime import datetime"
   ]
  },
  {
   "cell_type": "code",
   "execution_count": 4,
   "metadata": {},
   "outputs": [
    {
     "output_type": "execute_result",
     "data": {
      "text/plain": "      mean_data1  mean_data2\nkey1                        \na      -0.739160    0.417167\nb       0.910558    0.415298",
      "text/html": "<div>\n<style scoped>\n    .dataframe tbody tr th:only-of-type {\n        vertical-align: middle;\n    }\n\n    .dataframe tbody tr th {\n        vertical-align: top;\n    }\n\n    .dataframe thead th {\n        text-align: right;\n    }\n</style>\n<table border=\"1\" class=\"dataframe\">\n  <thead>\n    <tr style=\"text-align: right;\">\n      <th></th>\n      <th>mean_data1</th>\n      <th>mean_data2</th>\n    </tr>\n    <tr>\n      <th>key1</th>\n      <th></th>\n      <th></th>\n    </tr>\n  </thead>\n  <tbody>\n    <tr>\n      <th>a</th>\n      <td>-0.739160</td>\n      <td>0.417167</td>\n    </tr>\n    <tr>\n      <th>b</th>\n      <td>0.910558</td>\n      <td>0.415298</td>\n    </tr>\n  </tbody>\n</table>\n</div>"
     },
     "metadata": {},
     "execution_count": 4
    }
   ],
   "source": [
    "df = DataFrame({'key1':['a','a','b','b','a'],\n",
    "                'key2':['one','two','one','two','one'],\n",
    "                'data1':np.random.randn(5),\n",
    "                'data2':np.random.randn(5)})\n",
    "# 假设我们想要为一个DataFrame添加一个用于存放各索引分组平均值的列\n",
    "k1_means = df.groupby('key1').mean().add_prefix('mean_')\n",
    "k1_means"
   ]
  },
  {
   "cell_type": "code",
   "execution_count": 5,
   "metadata": {},
   "outputs": [
    {
     "output_type": "execute_result",
     "data": {
      "text/plain": "  key1 key2     data1     data2  mean_data1  mean_data2\n0    a  one -0.042308  0.777738   -0.739160    0.417167\n1    a  two -0.272877 -0.469442   -0.739160    0.417167\n4    a  one -1.902294  0.943206   -0.739160    0.417167\n2    b  one  0.673577  0.096099    0.910558    0.415298\n3    b  two  1.147539  0.734497    0.910558    0.415298",
      "text/html": "<div>\n<style scoped>\n    .dataframe tbody tr th:only-of-type {\n        vertical-align: middle;\n    }\n\n    .dataframe tbody tr th {\n        vertical-align: top;\n    }\n\n    .dataframe thead th {\n        text-align: right;\n    }\n</style>\n<table border=\"1\" class=\"dataframe\">\n  <thead>\n    <tr style=\"text-align: right;\">\n      <th></th>\n      <th>key1</th>\n      <th>key2</th>\n      <th>data1</th>\n      <th>data2</th>\n      <th>mean_data1</th>\n      <th>mean_data2</th>\n    </tr>\n  </thead>\n  <tbody>\n    <tr>\n      <th>0</th>\n      <td>a</td>\n      <td>one</td>\n      <td>-0.042308</td>\n      <td>0.777738</td>\n      <td>-0.739160</td>\n      <td>0.417167</td>\n    </tr>\n    <tr>\n      <th>1</th>\n      <td>a</td>\n      <td>two</td>\n      <td>-0.272877</td>\n      <td>-0.469442</td>\n      <td>-0.739160</td>\n      <td>0.417167</td>\n    </tr>\n    <tr>\n      <th>4</th>\n      <td>a</td>\n      <td>one</td>\n      <td>-1.902294</td>\n      <td>0.943206</td>\n      <td>-0.739160</td>\n      <td>0.417167</td>\n    </tr>\n    <tr>\n      <th>2</th>\n      <td>b</td>\n      <td>one</td>\n      <td>0.673577</td>\n      <td>0.096099</td>\n      <td>0.910558</td>\n      <td>0.415298</td>\n    </tr>\n    <tr>\n      <th>3</th>\n      <td>b</td>\n      <td>two</td>\n      <td>1.147539</td>\n      <td>0.734497</td>\n      <td>0.910558</td>\n      <td>0.415298</td>\n    </tr>\n  </tbody>\n</table>\n</div>"
     },
     "metadata": {},
     "execution_count": 5
    }
   ],
   "source": [
    "pd.merge(df, k1_means ,left_on ='key1',right_index=True) "
   ]
  },
  {
   "cell_type": "code",
   "execution_count": 7,
   "metadata": {},
   "outputs": [
    {
     "output_type": "execute_result",
     "data": {
      "text/plain": "               a         b         c         d         e\nJoe     1.369414 -1.688731 -0.117187  0.023261  0.951687\nSteve   0.958529 -1.640146 -1.526110 -0.009489  0.223745\nWes    -0.908185       NaN       NaN  1.233363  1.552325\nJim     0.576470 -0.673469 -1.114373 -0.907590  0.108386\nTravis  0.030273 -0.305783 -0.681139 -1.574129 -0.405366",
      "text/html": "<div>\n<style scoped>\n    .dataframe tbody tr th:only-of-type {\n        vertical-align: middle;\n    }\n\n    .dataframe tbody tr th {\n        vertical-align: top;\n    }\n\n    .dataframe thead th {\n        text-align: right;\n    }\n</style>\n<table border=\"1\" class=\"dataframe\">\n  <thead>\n    <tr style=\"text-align: right;\">\n      <th></th>\n      <th>a</th>\n      <th>b</th>\n      <th>c</th>\n      <th>d</th>\n      <th>e</th>\n    </tr>\n  </thead>\n  <tbody>\n    <tr>\n      <th>Joe</th>\n      <td>1.369414</td>\n      <td>-1.688731</td>\n      <td>-0.117187</td>\n      <td>0.023261</td>\n      <td>0.951687</td>\n    </tr>\n    <tr>\n      <th>Steve</th>\n      <td>0.958529</td>\n      <td>-1.640146</td>\n      <td>-1.526110</td>\n      <td>-0.009489</td>\n      <td>0.223745</td>\n    </tr>\n    <tr>\n      <th>Wes</th>\n      <td>-0.908185</td>\n      <td>NaN</td>\n      <td>NaN</td>\n      <td>1.233363</td>\n      <td>1.552325</td>\n    </tr>\n    <tr>\n      <th>Jim</th>\n      <td>0.576470</td>\n      <td>-0.673469</td>\n      <td>-1.114373</td>\n      <td>-0.907590</td>\n      <td>0.108386</td>\n    </tr>\n    <tr>\n      <th>Travis</th>\n      <td>0.030273</td>\n      <td>-0.305783</td>\n      <td>-0.681139</td>\n      <td>-1.574129</td>\n      <td>-0.405366</td>\n    </tr>\n  </tbody>\n</table>\n</div>"
     },
     "metadata": {},
     "execution_count": 7
    }
   ],
   "source": [
    "# 另外一种实现上述目的的方式是：利用np.mean函数对两个数据列进行转换。\n",
    "people = DataFrame(np.random.randn(5,5),columns=['a','b','c','d','e'],index=['Joe','Steve','Wes','Jim','Travis'])\n",
    "people.ix[2:3,['b','c']] = np.nan   # 添加几个NA值\n",
    "people"
   ]
  },
  {
   "cell_type": "code",
   "execution_count": 8,
   "metadata": {},
   "outputs": [
    {
     "output_type": "execute_result",
     "data": {
      "text/plain": "            a         b         c         d         e\none  0.163834 -0.997257 -0.399163 -0.105835  0.699549\ntwo  0.767499 -1.156807 -1.320242 -0.458539  0.166065",
      "text/html": "<div>\n<style scoped>\n    .dataframe tbody tr th:only-of-type {\n        vertical-align: middle;\n    }\n\n    .dataframe tbody tr th {\n        vertical-align: top;\n    }\n\n    .dataframe thead th {\n        text-align: right;\n    }\n</style>\n<table border=\"1\" class=\"dataframe\">\n  <thead>\n    <tr style=\"text-align: right;\">\n      <th></th>\n      <th>a</th>\n      <th>b</th>\n      <th>c</th>\n      <th>d</th>\n      <th>e</th>\n    </tr>\n  </thead>\n  <tbody>\n    <tr>\n      <th>one</th>\n      <td>0.163834</td>\n      <td>-0.997257</td>\n      <td>-0.399163</td>\n      <td>-0.105835</td>\n      <td>0.699549</td>\n    </tr>\n    <tr>\n      <th>two</th>\n      <td>0.767499</td>\n      <td>-1.156807</td>\n      <td>-1.320242</td>\n      <td>-0.458539</td>\n      <td>0.166065</td>\n    </tr>\n  </tbody>\n</table>\n</div>"
     },
     "metadata": {},
     "execution_count": 8
    }
   ],
   "source": [
    "key = ['one','two','one','two','one']\n",
    "people.groupby(key).mean()"
   ]
  },
  {
   "cell_type": "code",
   "execution_count": 17,
   "metadata": {},
   "outputs": [
    {
     "output_type": "execute_result",
     "data": {
      "text/plain": "               a         b         c         d         e\nJoe     0.163834 -0.997257 -0.399163 -0.105835  0.699549\nSteve   0.767499 -1.156807 -1.320242 -0.458539  0.166065\nWes     0.163834 -0.997257 -0.399163 -0.105835  0.699549\nJim     0.767499 -1.156807 -1.320242 -0.458539  0.166065\nTravis  0.163834 -0.997257 -0.399163 -0.105835  0.699549",
      "text/html": "<div>\n<style scoped>\n    .dataframe tbody tr th:only-of-type {\n        vertical-align: middle;\n    }\n\n    .dataframe tbody tr th {\n        vertical-align: top;\n    }\n\n    .dataframe thead th {\n        text-align: right;\n    }\n</style>\n<table border=\"1\" class=\"dataframe\">\n  <thead>\n    <tr style=\"text-align: right;\">\n      <th></th>\n      <th>a</th>\n      <th>b</th>\n      <th>c</th>\n      <th>d</th>\n      <th>e</th>\n    </tr>\n  </thead>\n  <tbody>\n    <tr>\n      <th>Joe</th>\n      <td>0.163834</td>\n      <td>-0.997257</td>\n      <td>-0.399163</td>\n      <td>-0.105835</td>\n      <td>0.699549</td>\n    </tr>\n    <tr>\n      <th>Steve</th>\n      <td>0.767499</td>\n      <td>-1.156807</td>\n      <td>-1.320242</td>\n      <td>-0.458539</td>\n      <td>0.166065</td>\n    </tr>\n    <tr>\n      <th>Wes</th>\n      <td>0.163834</td>\n      <td>-0.997257</td>\n      <td>-0.399163</td>\n      <td>-0.105835</td>\n      <td>0.699549</td>\n    </tr>\n    <tr>\n      <th>Jim</th>\n      <td>0.767499</td>\n      <td>-1.156807</td>\n      <td>-1.320242</td>\n      <td>-0.458539</td>\n      <td>0.166065</td>\n    </tr>\n    <tr>\n      <th>Travis</th>\n      <td>0.163834</td>\n      <td>-0.997257</td>\n      <td>-0.399163</td>\n      <td>-0.105835</td>\n      <td>0.699549</td>\n    </tr>\n  </tbody>\n</table>\n</div>"
     },
     "metadata": {},
     "execution_count": 17
    }
   ],
   "source": [
    "people.groupby(key).transform(np.mean)   # transform 会将一个函数应用到各个分组，然后将结果放置到合适的位置上。"
   ]
  },
  {
   "cell_type": "code",
   "execution_count": 18,
   "metadata": {},
   "outputs": [
    {
     "output_type": "execute_result",
     "data": {
      "text/plain": "               a         b         c         d         e\nJoe     1.205580 -0.691474  0.281976  0.129096  0.252138\nSteve   0.191029 -0.483339 -0.205868  0.449050  0.057679\nWes    -1.072019       NaN       NaN  1.339198  0.852777\nJim    -0.191029  0.483339  0.205868 -0.449050 -0.057679\nTravis -0.133561  0.691474 -0.281976 -1.468294 -1.104915",
      "text/html": "<div>\n<style scoped>\n    .dataframe tbody tr th:only-of-type {\n        vertical-align: middle;\n    }\n\n    .dataframe tbody tr th {\n        vertical-align: top;\n    }\n\n    .dataframe thead th {\n        text-align: right;\n    }\n</style>\n<table border=\"1\" class=\"dataframe\">\n  <thead>\n    <tr style=\"text-align: right;\">\n      <th></th>\n      <th>a</th>\n      <th>b</th>\n      <th>c</th>\n      <th>d</th>\n      <th>e</th>\n    </tr>\n  </thead>\n  <tbody>\n    <tr>\n      <th>Joe</th>\n      <td>1.205580</td>\n      <td>-0.691474</td>\n      <td>0.281976</td>\n      <td>0.129096</td>\n      <td>0.252138</td>\n    </tr>\n    <tr>\n      <th>Steve</th>\n      <td>0.191029</td>\n      <td>-0.483339</td>\n      <td>-0.205868</td>\n      <td>0.449050</td>\n      <td>0.057679</td>\n    </tr>\n    <tr>\n      <th>Wes</th>\n      <td>-1.072019</td>\n      <td>NaN</td>\n      <td>NaN</td>\n      <td>1.339198</td>\n      <td>0.852777</td>\n    </tr>\n    <tr>\n      <th>Jim</th>\n      <td>-0.191029</td>\n      <td>0.483339</td>\n      <td>0.205868</td>\n      <td>-0.449050</td>\n      <td>-0.057679</td>\n    </tr>\n    <tr>\n      <th>Travis</th>\n      <td>-0.133561</td>\n      <td>0.691474</td>\n      <td>-0.281976</td>\n      <td>-1.468294</td>\n      <td>-1.104915</td>\n    </tr>\n  </tbody>\n</table>\n</div>"
     },
     "metadata": {},
     "execution_count": 18
    }
   ],
   "source": [
    "def demean(arr):                    # 创建一个距平化函数，然后将其传给transferm\n",
    "    return arr-arr.mean()\n",
    "\n",
    "demeaned = people.groupby(key).transform(demean) \n",
    "demeaned"
   ]
  },
  {
   "cell_type": "code",
   "execution_count": 19,
   "metadata": {},
   "outputs": [
    {
     "output_type": "execute_result",
     "data": {
      "text/plain": "                a             b    c             d             e\none -9.251859e-18  0.000000e+00  0.0  0.000000e+00  0.000000e+00\ntwo -5.551115e-17  5.551115e-17  0.0  2.775558e-17 -6.938894e-18",
      "text/html": "<div>\n<style scoped>\n    .dataframe tbody tr th:only-of-type {\n        vertical-align: middle;\n    }\n\n    .dataframe tbody tr th {\n        vertical-align: top;\n    }\n\n    .dataframe thead th {\n        text-align: right;\n    }\n</style>\n<table border=\"1\" class=\"dataframe\">\n  <thead>\n    <tr style=\"text-align: right;\">\n      <th></th>\n      <th>a</th>\n      <th>b</th>\n      <th>c</th>\n      <th>d</th>\n      <th>e</th>\n    </tr>\n  </thead>\n  <tbody>\n    <tr>\n      <th>one</th>\n      <td>-9.251859e-18</td>\n      <td>0.000000e+00</td>\n      <td>0.0</td>\n      <td>0.000000e+00</td>\n      <td>0.000000e+00</td>\n    </tr>\n    <tr>\n      <th>two</th>\n      <td>-5.551115e-17</td>\n      <td>5.551115e-17</td>\n      <td>0.0</td>\n      <td>2.775558e-17</td>\n      <td>-6.938894e-18</td>\n    </tr>\n  </tbody>\n</table>\n</div>"
     },
     "metadata": {},
     "execution_count": 19
    }
   ],
   "source": [
    "demeaned.groupby(key).mean()"
   ]
  },
  {
   "cell_type": "code",
   "execution_count": null,
   "metadata": {},
   "outputs": [],
   "source": [
    "# 接下来进入apply的学习，一般性的拆分-应用-合并操作\n"
   ]
  }
 ]
}